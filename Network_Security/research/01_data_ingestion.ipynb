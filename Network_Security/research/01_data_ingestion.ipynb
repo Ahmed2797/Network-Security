{
 "cells": [
  {
   "cell_type": "code",
   "execution_count": 1,
   "id": "1137adb2",
   "metadata": {},
   "outputs": [],
   "source": [
    "# MongoDB\n",
    "DATA_BASE_NAME = 'NETWORK_SECURITY'\n",
    "COLLECTION_NAME = 'NETWORK_DATA'\n",
    "MONGOBD_URL = 'MONGODB_URL'\n",
    "\n",
    "# Artifacts\n",
    "ARTIFACTS = 'artifacts'\n",
    "PIPELINE_DIR = 'network'\n",
    "\n",
    "# Data_ingestion\n",
    "DATA_INGESTION_DIR: str = 'data_ingestion'\n",
    "DATA_INGESTION_COLLECTION_NAME:str = 'NETWORK_DATA'\n",
    "DATA_INGESTION_FEATURE_STORED_DIR:str = 'feature'\n",
    "DATA_INGESTION_INGESTED_DIR:str = 'ingested'\n",
    "DATA_INGESTION_SPLIT_RATIO:float = 0.2 \n",
    "\n",
    "# DATA \n",
    "RAW_DATA = 'raw.csv'\n",
    "TRAIN_DATA = 'train.csv'\n",
    "TEST_DATA = 'test.csv'\n"
   ]
  },
  {
   "cell_type": "code",
   "execution_count": 2,
   "id": "67c31fde",
   "metadata": {},
   "outputs": [],
   "source": [
    "from dataclasses import dataclass \n",
    "from datetime import datetime\n",
    "\n",
    "@dataclass \n",
    "class NS_Train_Configeration:\n",
    "    artifact_dir:str = ARTIFACTS\n",
    "    pipeline_dir:str = PIPELINE_DIR\n",
    "    TIMESTAMP = datetime.now().strftime('%m_%d_%Y_%H_%M_%S')\n",
    "\n",
    "train_config = NS_Train_Configeration()\n",
    "    "
   ]
  },
  {
   "cell_type": "code",
   "execution_count": 3,
   "id": "99b6e34a",
   "metadata": {},
   "outputs": [],
   "source": [
    "from dataclasses import dataclass\n",
    "import os \n",
    "\n",
    "\n",
    "@dataclass \n",
    "class Data_ingestion_Config:\n",
    "    data_ingestion_path = os.path.join(train_config.artifact_dir,DATA_INGESTION_DIR)\n",
    "    data_ingestion_collection_path = DATA_INGESTION_COLLECTION_NAME \n",
    "    data_ingestion_feature_path = os.path.join(data_ingestion_path,DATA_INGESTION_FEATURE_STORED_DIR,RAW_DATA)\n",
    "    train_data_path = os.path.join(data_ingestion_path,DATA_INGESTION_INGESTED_DIR,TRAIN_DATA)\n",
    "    test_data_path = os.path.join(data_ingestion_path,DATA_INGESTION_INGESTED_DIR,TEST_DATA)\n",
    "    split_ratio = DATA_INGESTION_SPLIT_RATIO \n",
    "\n",
    "\n",
    "@dataclass \n",
    "class Data_Ingestion_Artifact:\n",
    "    train_file_path:str\n",
    "    test_file_path:str\n",
    "\n"
   ]
  },
  {
   "cell_type": "code",
   "execution_count": 4,
   "id": "0d3e68e6",
   "metadata": {},
   "outputs": [],
   "source": [
    "import pymongo\n",
    "import certifi \n",
    "import sys \n",
    "import os"
   ]
  },
  {
   "cell_type": "code",
   "execution_count": 7,
   "id": "231adc99",
   "metadata": {},
   "outputs": [
    {
     "ename": "ModuleNotFoundError",
     "evalue": "No module named 'Network_Security'",
     "output_type": "error",
     "traceback": [
      "\u001b[31m---------------------------------------------------------------------------\u001b[39m",
      "\u001b[31mModuleNotFoundError\u001b[39m                       Traceback (most recent call last)",
      "\u001b[36mCell\u001b[39m\u001b[36m \u001b[39m\u001b[32mIn[7]\u001b[39m\u001b[32m, line 1\u001b[39m\n\u001b[32m----> \u001b[39m\u001b[32m1\u001b[39m \u001b[38;5;28;01mfrom\u001b[39;00m\u001b[38;5;250m \u001b[39m\u001b[34;01mNetwork_Security\u001b[39;00m\u001b[34;01m.\u001b[39;00m\u001b[34;01mexception\u001b[39;00m\u001b[34;01m.\u001b[39;00m\u001b[34;01mexception\u001b[39;00m\u001b[38;5;250m \u001b[39m\u001b[38;5;28;01mimport\u001b[39;00m NetworkSecurityException\n\u001b[32m      2\u001b[39m \u001b[38;5;28;01mfrom\u001b[39;00m\u001b[38;5;250m \u001b[39m\u001b[34;01mNetwork_Security\u001b[39;00m\u001b[34;01m.\u001b[39;00m\u001b[34;01mlogging\u001b[39;00m\u001b[34;01m.\u001b[39;00m\u001b[34;01mlogger\u001b[39;00m\u001b[38;5;250m \u001b[39m\u001b[38;5;28;01mimport\u001b[39;00m logging\n\u001b[32m      4\u001b[39m ca = certifi()\n",
      "\u001b[31mModuleNotFoundError\u001b[39m: No module named 'Network_Security'"
     ]
    }
   ],
   "source": [
    "from Network_Security.exception.exception import NetworkSecurityException\n",
    "from Network_Security.logging.logger import logging\n",
    "\n",
    "ca = certifi()\n",
    "\n",
    "class MongoDBClient:\n",
    "    try:\n",
    "        def __init__(self,database=DATA_BASE_NAME):\n",
    "            if MongoDBClient is None:\n",
    "                mongo_url = os.getenv(MONGOBD_URL)\n",
    "                if mongo_url is None:\n",
    "                    logging.info(\"Collection Error\")\n",
    "            MongoDBClient.client = pymongo.MongoClient(mongo_url,tlsCAFiles=ca)\n",
    "            self.client = MongoDBClient.client \n",
    "            self.database = self.client[database]\n",
    "            self.databse_name = database\n",
    "\n",
    "    except Exception as e:\n",
    "        raise (e,sys) \n",
    "        # raise NetworkSecurityException(e,sys) \n",
    "    \n"
   ]
  },
  {
   "cell_type": "code",
   "execution_count": null,
   "id": "17a73ee8",
   "metadata": {},
   "outputs": [],
   "source": [
    "from typing import Optional\n",
    "import pandas as pd\n",
    "import numpy as np\n",
    "\n",
    "class mongodb_extract_to_dataframe:\n",
    "    try:\n",
    "        def __init__(self):\n",
    "            self.mongo_client = MongoDBClient()\n",
    "        def get_dataframe(self,connection:str,database_name:Optional[str]=None):\n",
    "            if connection is None:\n",
    "                connection = self.mongo_client.database[connection]\n",
    "            else:\n",
    "                connection = self.mongo_client[database_name][connection]\n",
    "            df = pd.DataFrame(list(connection.find()))\n",
    "            if '_id' in df.columns.to_list():\n",
    "                df = df.drop('_id',axis=1)\n",
    "            df.replace({'na',np.nan})\n",
    "            return df\n",
    "    except Exception as e:\n",
    "        raise NetworkSecurityException (e,sys)"
   ]
  },
  {
   "cell_type": "code",
   "execution_count": null,
   "id": "47ff7711",
   "metadata": {},
   "outputs": [],
   "source": [
    "@dataclass \n",
    "class Data_Ingestion_Artifact:\n",
    "    train_data_path:str\n",
    "    test_data_path:str \n",
    "\n",
    "from sklearn.model_selection import train_test_split\n",
    "\n",
    "class Data_Ingestion:\n",
    "    def __init__(self,ingestion_config= Data_ingestion_Config):\n",
    "        self.ingestion_config = ingestion_config\n",
    "        \n",
    "    def get_feature_extract_data(self):\n",
    "        data = mongodb_extract_to_dataframe()\n",
    "        dataframe = data.get_dataframe(connection=self.ingestion_config.data_ingestion_collection_path)\n",
    "        feature_data_path = self.ingestion_config.data_ingestion_feature_path\n",
    "\n",
    "        os.makedirs(os.path.dirname(feature_data_path),exist_ok=True)\n",
    "        dataframe.to_csv(feature_data_path,index=False,header=True)\n",
    "        return dataframe \n",
    "    \n",
    "    def split_data(self,dataframe):\n",
    "        train_data,test_data = train_test_split(dataframe,test_size=self.ingestion_config.split_ratio)\n",
    "\n",
    "        train_file_path = self.ingestion_config.train_data_path\n",
    "        os.makedirs(os.path.dirname(train_file_path),exist_ok=True)\n",
    "        train_data.to_csv(train_file_path,index=False,header=True)\n",
    "\n",
    "        test_file_path = self.ingestion_config.test_data_path\n",
    "        os.makedirs(os.path.dirname(test_file_path),exist_ok=True)\n",
    "        test_data.to_csv(test_file_path,index=False,header=True)\n",
    "        return train_data,test_data\n",
    "    \n",
    "    def init_data_ingestion(self):\n",
    "        dataframe = self.get_feature_extract_data()\n",
    "        self.split_data(dataframe)\n",
    "\n",
    "        data_ingestion_artifact = Data_Ingestion_Artifact(\n",
    "            train_data_path=self.ingestion_config.train_data_path,\n",
    "            test_data_path=self.ingestion_config.test_data_path\n",
    "        )\n",
    "        return data_ingestion_artifact\n",
    "        \n"
   ]
  },
  {
   "cell_type": "code",
   "execution_count": null,
   "id": "4e60e721",
   "metadata": {},
   "outputs": [],
   "source": [
    "class Training_Pipeline:\n",
    "    def __init__(self):\n",
    "        self.data_ingestion_config = Data_ingestion_Config()\n",
    "\n",
    "def start_data_ingestion(self)->Data_Ingestion_Artifact:\n",
    "    data_ingestion = Data_Ingestion(ingestion_config=self.data_ingestion_config)\n",
    "    data_ingestion_artifacet = data_ingestion.init_data_ingestion()\n",
    "    return data_ingestion_artifacet\n"
   ]
  }
 ],
 "metadata": {
  "kernelspec": {
   "display_name": "Python 3",
   "language": "python",
   "name": "python3"
  },
  "language_info": {
   "codemirror_mode": {
    "name": "ipython",
    "version": 3
   },
   "file_extension": ".py",
   "mimetype": "text/x-python",
   "name": "python",
   "nbconvert_exporter": "python",
   "pygments_lexer": "ipython3",
   "version": "3.12.11"
  }
 },
 "nbformat": 4,
 "nbformat_minor": 5
}
